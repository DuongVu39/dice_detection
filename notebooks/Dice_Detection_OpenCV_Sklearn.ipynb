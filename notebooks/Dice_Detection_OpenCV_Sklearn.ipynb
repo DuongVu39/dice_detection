{
 "cells": [
  {
   "cell_type": "code",
   "execution_count": 1,
   "id": "672820a0-f548-426b-b67f-0ff3f3c67686",
   "metadata": {},
   "outputs": [],
   "source": [
    "import cv2\n",
    "import numpy as np\n",
    "from sklearn import cluster"
   ]
  },
  {
   "cell_type": "code",
   "execution_count": 9,
   "id": "d988db43-f7a5-4653-850c-80775fe504d3",
   "metadata": {},
   "outputs": [],
   "source": [
    "params = cv2.SimpleBlobDetector_Params()\n",
    "\n",
    "params.filterByInertia\n",
    "params.minInertiaRatio = 0.6\n",
    "\n",
    "detector = cv2.SimpleBlobDetector_create(params)\n",
    "\n",
    "def get_blobs(frame):\n",
    "    frame_blurred = cv2.medianBlur(frame, 7)\n",
    "    frame_gray = cv2.cvtColor(frame_blurred, cv2.COLOR_BGR2GRAY)\n",
    "    blobs = detector.detect(frame_gray)\n",
    "    \n",
    "    return blobs\n"
   ]
  },
  {
   "cell_type": "code",
   "execution_count": 12,
   "id": "4e424b78-0d09-4307-b55c-7dee5652cd6e",
   "metadata": {},
   "outputs": [],
   "source": [
    "def get_dice_from_blobs(blobs):\n",
    "    # get centroids of all blobs\n",
    "    X = []\n",
    "    for b in blobs:\n",
    "        pos = b.pt\n",
    "        \n",
    "        if pos != None:\n",
    "            X.append(pos)\n",
    "    X = np.asarray(X)\n",
    "    \n",
    "    if len(X) > 0:\n",
    "        # Important to set min_sample to 0, as a dice may only have one dot\n",
    "        clustering = cluster.DBSCAN(eps=40, min_samples=1).fit(X)\n",
    "        \n",
    "        # Find the largest label assigned + 1, to get the number of dice found\n",
    "        num_dice = max(clustering.labels_) + 1\n",
    "        \n",
    "        dice = []\n",
    "        \n",
    "        # Calculate centroid of each dice, the average between all dice's dots\n",
    "        for i in range(num_dice):\n",
    "            X_dice = X[clustering.labels_ == i]\n",
    "            \n",
    "            centroid_dice = np.mean(X_dice, axis=0)\n",
    "            \n",
    "            dice.append([len(X_dice), *centroid_dice])\n",
    "        \n",
    "        return dice\n",
    "    else:\n",
    "        return []"
   ]
  },
  {
   "cell_type": "code",
   "execution_count": 14,
   "id": "f1e19cb9-21d3-4132-8c14-25d8815112bd",
   "metadata": {},
   "outputs": [],
   "source": [
    "def overlay_info(frame, dice, blobs):\n",
    "    # Overlay blobs\n",
    "    for b in blobs:\n",
    "        pos = b.pt\n",
    "        r = b.size / 2\n",
    "        \n",
    "        cv2.circle(frame, (int(pos[0]), int(pos[1])),\n",
    "                   int(r), (255, 0, 0), 2)\n",
    "        # overlay dice number\n",
    "        for d in dice:\n",
    "            # get textsize for text centering\n",
    "            text_size = cv2.getTextSize(str(d[0]), cv2.FONT_HERSHEY_PLAIN, 3, 2)[0]\n",
    "            \n",
    "            cv2.putText(frame, str(d[0]),\n",
    "                        (int(d[1] - text_size[0] / 2),\n",
    "                         int(d[2] + text_size[1] / 2)),\n",
    "                         cv2.FONT_HERSHEY_PLAIN, 3, (0, 255, 0), 2)                      "
   ]
  },
  {
   "cell_type": "code",
   "execution_count": 15,
   "id": "f587ecfa-b7bc-48aa-b1dd-407133ef8a79",
   "metadata": {},
   "outputs": [],
   "source": [
    "# Initialize a video feed\n",
    "cap = cv2.VideoCapture(0)\n",
    "\n",
    "while True:\n",
    "    # Get the latest image from the video feed \n",
    "    ret, frame = cap.read()\n",
    "    \n",
    "    blobs = get_blobs(frame)\n",
    "    dice = get_dice_from_blobs(blobs)\n",
    "    out_frame = overlay_info(frame, dice, blobs)\n",
    "    \n",
    "    cv2.imshow(\"frame\", frame)\n",
    "    \n",
    "    res = cv2.waitKey(1)\n",
    "    \n",
    "    # Stop if the user presses \"q\"\n",
    "    if res & 0xFF == ord(\"q\"):\n",
    "        break\n",
    "\n",
    "# Release the capture when everything is done\n",
    "cap.release()\n",
    "cv2.destroyAllWindows()"
   ]
  },
  {
   "cell_type": "code",
   "execution_count": null,
   "id": "a410bfd9-c1dd-42cc-8816-961589f0fa18",
   "metadata": {},
   "outputs": [],
   "source": []
  },
  {
   "cell_type": "code",
   "execution_count": null,
   "id": "17682de2-b3de-46ae-8d5e-6abc0a6ec824",
   "metadata": {},
   "outputs": [],
   "source": []
  }
 ],
 "metadata": {
  "kernelspec": {
   "display_name": "Python 3 (ipykernel)",
   "language": "python",
   "name": "python3"
  },
  "language_info": {
   "codemirror_mode": {
    "name": "ipython",
    "version": 3
   },
   "file_extension": ".py",
   "mimetype": "text/x-python",
   "name": "python",
   "nbconvert_exporter": "python",
   "pygments_lexer": "ipython3",
   "version": "3.8.3"
  }
 },
 "nbformat": 4,
 "nbformat_minor": 5
}
